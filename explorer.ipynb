{
 "cells": [
  {
   "cell_type": "code",
   "execution_count": 12,
   "id": "425d8f24",
   "metadata": {},
   "outputs": [],
   "source": [
    "import json\n",
    "\n",
    "with open('data/greek_words.json', 'r') as file:\n",
    "    greek_words = json.load(file)"
   ]
  },
  {
   "cell_type": "code",
   "execution_count": 13,
   "id": "4ca1f3f2",
   "metadata": {},
   "outputs": [
    {
     "data": {
      "text/plain": [
       "290"
      ]
     },
     "execution_count": 13,
     "metadata": {},
     "output_type": "execute_result"
    }
   ],
   "source": [
    "len(greek_words)"
   ]
  },
  {
   "cell_type": "code",
   "execution_count": 10,
   "id": "e52ae618",
   "metadata": {},
   "outputs": [
    {
     "data": {
      "text/plain": [
       "290"
      ]
     },
     "execution_count": 10,
     "metadata": {},
     "output_type": "execute_result"
    }
   ],
   "source": [
    "len({e['Форма'] for e in greek_words })\n",
    "\n",
    "forms = []\n",
    "\n",
    "unique_entries = []\n",
    "for entry in greek_words:\n",
    "    if entry['Форма'] not in forms:\n",
    "        forms.append(entry['Форма'])\n",
    "        unique_entries.append(entry)\n",
    "len(unique_entries)"
   ]
  },
  {
   "cell_type": "code",
   "execution_count": 30,
   "id": "e01315aa",
   "metadata": {},
   "outputs": [],
   "source": [
    "with open('data/greek_words.json', 'w') as file:\n",
    "    json.dump(unique_entries, file, ensure_ascii=False, indent=4)"
   ]
  },
  {
   "cell_type": "code",
   "execution_count": 31,
   "id": "546715f5",
   "metadata": {},
   "outputs": [
    {
     "data": {
      "text/plain": [
       "219"
      ]
     },
     "execution_count": 31,
     "metadata": {},
     "output_type": "execute_result"
    }
   ],
   "source": [
    "lemas = []\n",
    "lema_entries = []\n",
    "for entry in greek_words:\n",
    "    if entry['Лема'] not in lemas:\n",
    "        lemas.append(entry['Лема'])\n",
    "        lema_entries.append({'Лема': entry['Лема'], 'Превод': entry['Превод']})\n",
    "len(lema_entries)"
   ]
  },
  {
   "cell_type": "code",
   "execution_count": 36,
   "id": "d37c7254",
   "metadata": {},
   "outputs": [
    {
     "data": {
      "text/plain": [
       "set()"
      ]
     },
     "execution_count": 36,
     "metadata": {},
     "output_type": "execute_result"
    }
   ],
   "source": [
    "set([entry['Лема'] for entry in lema_entries1]) - set([entry['Лема'] for entry in lema_entries])"
   ]
  },
  {
   "cell_type": "code",
   "execution_count": 37,
   "id": "0f7616bd",
   "metadata": {},
   "outputs": [],
   "source": [
    "with open('data/greek_words_standard.json', 'r') as file:\n",
    "    lema_entries1 = json.load(file)"
   ]
  },
  {
   "cell_type": "code",
   "execution_count": 40,
   "id": "8260391f",
   "metadata": {},
   "outputs": [],
   "source": [
    "for entry in lema_entries1:\n",
    "    if entry['Лема'] in dct_corrected:\n",
    "        entry['Превод'] = dct_corrected[entry['Лема']]"
   ]
  },
  {
   "cell_type": "code",
   "execution_count": 42,
   "id": "d88c1b11",
   "metadata": {},
   "outputs": [],
   "source": [
    "with open('data/greek_words_standard.json', 'w') as file:\n",
    "    json.dump(lema_entries1, file, ensure_ascii=False, indent=4)"
   ]
  },
  {
   "cell_type": "code",
   "execution_count": 39,
   "id": "7eab6ab5",
   "metadata": {},
   "outputs": [],
   "source": [
    "dct_corrected = {e[\"Лема\"]: e[\"Превод\"] for e in corrected}"
   ]
  },
  {
   "cell_type": "code",
   "execution_count": 38,
   "id": "81012801",
   "metadata": {},
   "outputs": [],
   "source": [
    "corrected = [\n",
    "{\n",
    "  \"Лема\": \"παῖς\",\n",
    "  \"Превод\": \"дете\"\n",
    "},\n",
    "{\n",
    "  \"Лема\": \"λούω\",\n",
    "  \"Превод\": \"къпя\"\n",
    "},\n",
    "{\n",
    "  \"Лема\": \"ἀποπνίγω\",\n",
    "  \"Превод\": \"удавям\"\n",
    "},\n",
    "{\n",
    "  \"Лема\": \"αὐτός\",\n",
    "  \"Превод\": \"самият; той\"\n",
    "},\n",
    "{\n",
    "  \"Лема\": \"ἐγώ\",\n",
    "  \"Превод\": \"аз\"\n",
    "},\n",
    "{\n",
    "  \"Лема\": \"ὕστερος\",\n",
    "  \"Превод\": \"по-късен\"\n",
    "},\n",
    "{\n",
    "  \"Лема\": \"ἀπότομος\",\n",
    "  \"Превод\": \"стръмен\"\n",
    "},\n",
    "{\n",
    "  \"Лема\": \"πύλη\",\n",
    "  \"Превод\": \"порта\"\n",
    "},\n",
    "{\n",
    "  \"Лема\": \"πᾶς\",\n",
    "  \"Превод\": \"всеки\"\n",
    "},\n",
    "{\n",
    "  \"Лема\": \"τίς\",\n",
    "  \"Превод\": \"кой\"\n",
    "},\n",
    "{\n",
    "  \"Лема\": \"τετράπους\",\n",
    "  \"Превод\": \"четириног\"\n",
    "},\n",
    "{\n",
    "  \"Лема\": \"δίπους\",\n",
    "  \"Превод\": \"двуног\"\n",
    "},\n",
    "{\n",
    "  \"Лема\": \"τρίπους\",\n",
    "  \"Превод\": \"трикрак\"\n",
    "},\n",
    "{\n",
    "  \"Лема\": \"ὅμοιος\",\n",
    "  \"Превод\": \"подобен\"\n",
    "},\n",
    "{\n",
    "  \"Лема\": \"ἴσος\",\n",
    "  \"Превод\": \"равен\"\n",
    "},\n",
    "{\n",
    "  \"Лема\": \"ἑσπέριος\",\n",
    "  \"Превод\": \"западен\"\n",
    "},\n",
    "{\n",
    "  \"Лема\": \"Ἠλεῖος\",\n",
    "  \"Превод\": \"елейски  (жител на Елис)\"\n",
    "},\n",
    "{\n",
    "  \"Лема\": \"Μεσσήνιος\",\n",
    "  \"Превод\": \"месенски (жител на Месения)\"\n",
    "},\n",
    "{\n",
    "  \"Лема\": \"Ἀχαιός\",\n",
    "  \"Превод\": \"ахеец\"\n",
    "},\n",
    "{\n",
    "  \"Лема\": \"ὀργίζομαι\",\n",
    "  \"Превод\": \"гневя се\"\n",
    "}\n",
    "]"
   ]
  },
  {
   "cell_type": "code",
   "execution_count": 17,
   "id": "905dd41c",
   "metadata": {},
   "outputs": [],
   "source": [
    "JSONL_PATH = 'data/kaikki.org-dictionary-AncientGreek-words.jsonl'"
   ]
  },
  {
   "cell_type": "code",
   "execution_count": 18,
   "id": "73a111a6",
   "metadata": {},
   "outputs": [
    {
     "name": "stdout",
     "output_type": "stream",
     "text": [
      "WORD: κύων | POS: noun\n",
      "Glosses: ['a dog', 'a bitch', 'a bitch (used of women, to denote shamelessness or audacity)', 'an offensive person']\n",
      "Nom.Sg forms: ['ἡ κῠ́ων']\n",
      "Gen.Sg forms: ['τῆς κῠνός']\n",
      "IPA: [('unspecified', '/ký.ɔːn/'), ('unspecified', '/ˈcy.on/'), ('unspecified', '/ˈci.on/'), ('5ᵗʰ BCE Attic', '/ký.ɔːn/'), ('1ˢᵗ CE Egyptian', '/ˈky.on/'), ('4ᵗʰ CE Koine', '/ˈcy.on/'), ('10ᵗʰ CE Byzantine', '/ˈcy.on/'), ('15ᵗʰ CE Constantinopolitan', '/ˈci.on/')]\n",
      "----------------------------------------\n",
      "WORD: κύων | POS: verb\n",
      "First 3 glosses: ['present active participle of κύω (kúō)']\n",
      "Some forms (masc nom sg): ['κῠ́ων']\n",
      "----------------------------------------\n",
      "WORD: σκύλος | POS: noun\n",
      "Glosses: ['skin, hide']\n",
      "Nom.Pl: ['σκῠ́λη', 'σκῠ́λεᾰ']\n",
      "----------------------------------------\n",
      "WORD: Κύπρος | POS: name\n",
      "Glosses: ['Cyprus (an island in the Mediterranean Sea)']\n",
      "Cases (singular): {'nominative': ['Κῠ́προς'], 'genitive': ['Κῠ́πρου'], 'dative': ['Κῠ́πρῳ'], 'accusative': ['Κῠ́προν']}\n",
      "----------------------------------------\n"
     ]
    }
   ],
   "source": [
    "import json, unicodedata\n",
    "from collections import defaultdict\n",
    "\n",
    "# JSONL_PATH = \"ancient_greek.jsonl\"  # put your Kaikki JSONL file here\n",
    "\n",
    "def strip_diacritics(s: str) -> str:\n",
    "    # loose matching: removes accents/combining marks but keeps rough/smooth breathing as letters\n",
    "    return \"\".join(ch for ch in unicodedata.normalize(\"NFD\", s)\n",
    "                   if unicodedata.category(ch) != \"Mn\")\n",
    "\n",
    "def load_entries(jsonl_path=JSONL_PATH, lang_code=\"grc\"):\n",
    "    by_word = defaultdict(list)\n",
    "    with open(jsonl_path, \"r\", encoding=\"utf-8\") as f:\n",
    "        for line in f:\n",
    "            if not line.strip(): \n",
    "                continue\n",
    "            obj = json.loads(line)\n",
    "            if obj.get(\"lang_code\") != lang_code:\n",
    "                continue\n",
    "            w = obj.get(\"word\")\n",
    "            if not w:\n",
    "                continue\n",
    "            by_word[w].append(obj)\n",
    "            # also index a stripped version for accent-insensitive search\n",
    "            by_word[strip_diacritics(w)].append(obj)\n",
    "    return by_word\n",
    "\n",
    "def get_entries(by_word, lemma: str, pos: str|None=None):\n",
    "    key_exact = lemma\n",
    "    key_loose = strip_diacritics(lemma)\n",
    "    candidates = []\n",
    "    for k in (key_exact, key_loose):\n",
    "        if k in by_word:\n",
    "            for e in by_word[k]:\n",
    "                if pos is None or e.get(\"pos\") == pos:\n",
    "                    candidates.append(e)\n",
    "    # dedupe by (id-ish) tuple\n",
    "    seen, out = set(), []\n",
    "    for e in candidates:\n",
    "        tid = (e.get(\"word\"), e.get(\"pos\"), e.get(\"etymology_number\"))\n",
    "        if tid not in seen:\n",
    "            seen.add(tid); out.append(e)\n",
    "    return out\n",
    "\n",
    "def list_glosses(entry):\n",
    "    glosses = []\n",
    "    for s in entry.get(\"senses\", []):\n",
    "        if \"glosses\" in s:\n",
    "            glosses.extend(s[\"glosses\"])\n",
    "        elif \"raw_glosses\" in s:\n",
    "            glosses.extend(s[\"raw_glosses\"])\n",
    "    return glosses\n",
    "\n",
    "def filter_forms(entry, *, case=None, number=None, gender=None, tags_all=None):\n",
    "    res = []\n",
    "    for f in entry.get(\"forms\", []):\n",
    "        tags = set(f.get(\"tags\", []))\n",
    "        if case and case not in tags: continue\n",
    "        if number and number not in tags: continue\n",
    "        if gender and gender not in tags: continue\n",
    "        if tags_all and not set(tags_all).issubset(tags): continue\n",
    "        res.append(f)\n",
    "    return res\n",
    "\n",
    "def ipa_by_period(entry):\n",
    "    out = []\n",
    "    for s in entry.get(\"sounds\", []):\n",
    "        ipa = s.get(\"ipa\")\n",
    "        note = s.get(\"note\")\n",
    "        if ipa:\n",
    "            out.append((note or \"unspecified\", ipa))\n",
    "    return out\n",
    "\n",
    "# --- example usage ---\n",
    "by_word = load_entries(JSONL_PATH)\n",
    "\n",
    "# 1) κύων (noun) — dog\n",
    "k_entries = get_entries(by_word, \"κύων\", pos=\"noun\")\n",
    "for e in k_entries:\n",
    "    print(\"WORD:\", e[\"word\"], \"| POS:\", e[\"pos\"])\n",
    "    print(\"Glosses:\", list_glosses(e)[:5])\n",
    "    print(\"Nom.Sg forms:\", [f[\"form\"] for f in filter_forms(e, case=\"nominative\", number=\"singular\")])\n",
    "    print(\"Gen.Sg forms:\", [f[\"form\"] for f in filter_forms(e, case=\"genitive\", number=\"singular\")])\n",
    "    print(\"IPA:\", ipa_by_period(e))\n",
    "    print(\"-\"*40)\n",
    "\n",
    "# 2) κύων (verb-form) — participle of κύω\n",
    "kv_entries = get_entries(by_word, \"κύων\", pos=\"verb\")\n",
    "for e in kv_entries:\n",
    "    print(\"WORD:\", e[\"word\"], \"| POS:\", e[\"pos\"])\n",
    "    print(\"First 3 glosses:\", list_glosses(e)[:3])\n",
    "    print(\"Some forms (masc nom sg):\", [f[\"form\"] for f in filter_forms(e, gender=\"masculine\", case=\"nominative\", number=\"singular\")])\n",
    "    print(\"-\"*40)\n",
    "\n",
    "# 3) σκύλος (neuter) — skin/hide (3rd decl.)\n",
    "s_entries = get_entries(by_word, \"σκύλος\", pos=\"noun\")\n",
    "for e in s_entries:\n",
    "    print(\"WORD:\", e[\"word\"], \"| POS:\", e[\"pos\"])\n",
    "    print(\"Glosses:\", list_glosses(e))\n",
    "    print(\"Nom.Pl:\", [f[\"form\"] for f in filter_forms(e, case=\"nominative\", number=\"plural\")])\n",
    "    print(\"-\"*40)\n",
    "\n",
    "# 4) Proper name: Κύπρος\n",
    "c_entries = get_entries(by_word, \"Κύπρος\", pos=\"name\")\n",
    "for e in c_entries:\n",
    "    print(\"WORD:\", e[\"word\"], \"| POS:\", e[\"pos\"])\n",
    "    print(\"Glosses:\", list_glosses(e))\n",
    "    print(\"Cases (singular):\",\n",
    "          {lab: [f[\"form\"] for f in filter_forms(e, case=lab, number=\"singular\")]\n",
    "           for lab in (\"nominative\",\"genitive\",\"dative\",\"accusative\")})\n",
    "    print(\"-\"*40)"
   ]
  },
  {
   "cell_type": "code",
   "execution_count": 27,
   "id": "da5adb9a",
   "metadata": {},
   "outputs": [
    {
     "name": "stdout",
     "output_type": "stream",
     "text": [
      "WORD: ἕως | POS: noun\n",
      "Glosses: ['Attic form of ἠώς (ēṓs)']\n",
      "Nom.Sg forms: ['ἕως']\n",
      "Gen.Sg forms: ['ἕω']\n",
      "IPA: [('unspecified', '/hé.ɔːs/'), ('unspecified', '/ˈe.os/'), ('unspecified', '/ˈe.os/'), ('5ᵗʰ BCE Attic', '/hé.ɔːs/'), ('1ˢᵗ CE Egyptian', '/ˈ(h)e.os/'), ('4ᵗʰ CE Koine', '/ˈe.os/'), ('10ᵗʰ CE Byzantine', '/ˈe.os/'), ('15ᵗʰ CE Constantinopolitan', '/ˈe.os/')]\n",
      "----------------------------------------\n",
      "WORD: ἕως | POS: conj\n",
      "Glosses: ['until, till', 'of a fact in past time', 'until, till', 'until, till', 'until, till']\n",
      "Nom.Sg forms: []\n",
      "Gen.Sg forms: []\n",
      "IPA: [('unspecified', '/hé.ɔːs/'), ('unspecified', '/ˈe.os/'), ('unspecified', '/ˈe.os/'), ('5ᵗʰ BCE Attic', '/hé.ɔːs/'), ('1ˢᵗ CE Egyptian', '/ˈ(h)e.os/'), ('4ᵗʰ CE Koine', '/ˈe.os/'), ('10ᵗʰ CE Byzantine', '/ˈe.os/'), ('15ᵗʰ CE Constantinopolitan', '/ˈe.os/')]\n",
      "----------------------------------------\n",
      "WORD: ἕως | POS: adv\n",
      "Glosses: ['for a time, like τέως (téōs)']\n",
      "Nom.Sg forms: []\n",
      "Gen.Sg forms: []\n",
      "IPA: [('unspecified', '/hé.ɔːs/'), ('unspecified', '/ˈe.os/'), ('unspecified', '/ˈe.os/'), ('5ᵗʰ BCE Attic', '/hé.ɔːs/'), ('1ˢᵗ CE Egyptian', '/ˈ(h)e.os/'), ('4ᵗʰ CE Koine', '/ˈe.os/'), ('10ᵗʰ CE Byzantine', '/ˈe.os/'), ('15ᵗʰ CE Constantinopolitan', '/ˈe.os/')]\n",
      "----------------------------------------\n"
     ]
    }
   ],
   "source": [
    "k_entries = get_entries(by_word, \"ἕως\")\n",
    "for e in k_entries:\n",
    "    print(\"WORD:\", e[\"word\"], \"| POS:\", e[\"pos\"])\n",
    "    print(\"Glosses:\", list_glosses(e)[:5])\n",
    "    print(\"Nom.Sg forms:\", [f[\"form\"] for f in filter_forms(e, case=\"nominative\", number=\"singular\")])\n",
    "    print(\"Gen.Sg forms:\", [f[\"form\"] for f in filter_forms(e, case=\"genitive\", number=\"singular\")])\n",
    "    print(\"IPA:\", ipa_by_period(e))\n",
    "    print(\"-\"*40)"
   ]
  },
  {
   "cell_type": "code",
   "execution_count": null,
   "id": "0fd96b53",
   "metadata": {},
   "outputs": [],
   "source": []
  }
 ],
 "metadata": {
  "kernelspec": {
   "display_name": "ml_agent_py311",
   "language": "python",
   "name": "python3"
  },
  "language_info": {
   "codemirror_mode": {
    "name": "ipython",
    "version": 3
   },
   "file_extension": ".py",
   "mimetype": "text/x-python",
   "name": "python",
   "nbconvert_exporter": "python",
   "pygments_lexer": "ipython3",
   "version": "3.11.0"
  }
 },
 "nbformat": 4,
 "nbformat_minor": 5
}
